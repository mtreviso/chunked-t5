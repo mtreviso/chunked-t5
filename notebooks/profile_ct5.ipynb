{
 "cells": [
  {
   "cell_type": "code",
   "execution_count": 1,
   "id": "9714f006-b7ca-4edf-9f4f-959a95dd102c",
   "metadata": {},
   "outputs": [
    {
     "name": "stdout",
     "output_type": "stream",
     "text": [
      "env: CUDA_VISIBLE_DEVICES=0\n",
      "env: TOKENIZERS_PARALLELISM=false\n"
     ]
    }
   ],
   "source": [
    "%load_ext autoreload\n",
    "%autoreload 2\n",
    "%env CUDA_VISIBLE_DEVICES=0\n",
    "%env TOKENIZERS_PARALLELISM=false"
   ]
  },
  {
   "cell_type": "code",
   "execution_count": 2,
   "id": "3af7b466-24f7-401f-b2e7-1b62190ba133",
   "metadata": {},
   "outputs": [],
   "source": [
    "import torch\n",
    "from tqdm import tqdm"
   ]
  },
  {
   "cell_type": "code",
   "execution_count": 4,
   "id": "ca10aa32-5b3a-40be-bc13-8386aa8f44e8",
   "metadata": {},
   "outputs": [],
   "source": [
    "from transformers import AutoTokenizer, T5ForConditionalGeneration\n",
    "from modeling_ct5 import CT5ForConditionalGeneration\n",
    "\n",
    "dirname = 'ct5-small-en-wiki-pytorch'\n",
    "tokenizer = AutoTokenizer.from_pretrained(dirname)\n",
    "model_ct5 = CT5ForConditionalGeneration.from_pretrained(dirname)\n",
    "model_ct5 = model_ct5.eval().cuda()\n",
    "model_t5 = T5ForConditionalGeneration.from_pretrained(dirname)\n",
    "model_t5 = model_t5.eval().cuda()"
   ]
  },
  {
   "cell_type": "markdown",
   "id": "d45a499e-613a-4354-9d52-4199a248e4b9",
   "metadata": {
    "tags": []
   },
   "source": [
    "## Timing\n",
    "---"
   ]
  },
  {
   "cell_type": "code",
   "execution_count": 5,
   "id": "e1e78cc9-4e50-47ac-a5ed-53288e6b479c",
   "metadata": {},
   "outputs": [
    {
     "name": "stderr",
     "output_type": "stream",
     "text": [
      "Reusing dataset wikitext (/home/mtreviso/.cache/huggingface/datasets/wikitext/wikitext-103-v1/1.0.0/a241db52902eaf2c6aa732210bead40c090019a499ceb13bcbfa3f8ab646a126)\n"
     ]
    },
    {
     "data": {
      "application/vnd.jupyter.widget-view+json": {
       "model_id": "3e0aa8af0feb4a02904783ab8953292c",
       "version_major": 2,
       "version_minor": 0
      },
      "text/plain": [
       "  0%|          | 0/3 [00:00<?, ?it/s]"
      ]
     },
     "metadata": {},
     "output_type": "display_data"
    },
    {
     "name": "stderr",
     "output_type": "stream",
     "text": [
      "Parameter 'function'=<function filter_ex at 0x7f9dae4fa670> of the transform datasets.arrow_dataset.Dataset.filter@2.0.1 couldn't be hashed properly, a random hash was used instead. Make sure your transforms and parameters are serializable with pickle or dill for the dataset fingerprinting and caching to work. If you reuse this transform, the caching mechanism will consider it to be different from the previous calls and recompute everything. This warning is only showed once. Subsequent hashing failures won't be showed.\n"
     ]
    },
    {
     "data": {
      "application/vnd.jupyter.widget-view+json": {
       "model_id": "5ab18050224849f6b43a4fa52fdf21b1",
       "version_major": 2,
       "version_minor": 0
      },
      "text/plain": [
       "  0%|          | 0/1802 [00:00<?, ?ba/s]"
      ]
     },
     "metadata": {},
     "output_type": "display_data"
    },
    {
     "data": {
      "application/vnd.jupyter.widget-view+json": {
       "model_id": "a4a33b4d3bd24abe9948dca9074602f1",
       "version_major": 2,
       "version_minor": 0
      },
      "text/plain": [
       "  0%|          | 0/807 [00:00<?, ?ex/s]"
      ]
     },
     "metadata": {},
     "output_type": "display_data"
    }
   ],
   "source": [
    "from datasets import load_dataset\n",
    "from pretrain_chunked_t5 import FlaxDataCollatorForT5MLM\n",
    "\n",
    "dataset = load_dataset('wikitext', 'wikitext-103-v1')\n",
    "train_dataset = dataset['train']\n",
    "val_dataset = dataset['validation']\n",
    "test_dataset = dataset['test']\n",
    "\n",
    "min_length, max_length = 480, 512\n",
    "batch_size = 16\n",
    "\n",
    "def encode_ex(example):\n",
    "    return tokenizer(\n",
    "        example['text'], \n",
    "        return_attention_mask=False,\n",
    "        padding='max_length', \n",
    "        max_length=max_length,\n",
    "        truncation=True, \n",
    "    )\n",
    "\n",
    "def filter_ex(example):\n",
    "    return min_length <= len(example[\"text\"].split())\n",
    "\n",
    "def sanitize(t):\n",
    "    return t.replace('<', ' <').replace('>', '> ').replace('  ', ' ').strip()\n",
    "\n",
    "tokenized_dataset = train_dataset.filter(filter_ex).map(encode_ex)\n",
    "data_collator = FlaxDataCollatorForT5MLM(\n",
    "    tokenizer=tokenizer,\n",
    "    noise_density=0.15,\n",
    "    mean_noise_span_length=3.0,\n",
    "    input_length=None,\n",
    "    target_length=None,\n",
    "    pad_token_id=model_ct5.config.pad_token_id,\n",
    "    decoder_start_token_id=model_ct5.config.decoder_start_token_id,\n",
    ")\n",
    "model_inputs = data_collator(tokenized_dataset)\n",
    "input_samples = [sanitize(tokenizer.decode(x)).replace('</s>', '').strip() for x in model_inputs['input_ids']]\n",
    "label_samples = [sanitize(tokenizer.decode(x)).replace('</s>', '').strip() for x in model_inputs['labels']]"
   ]
  },
  {
   "cell_type": "code",
   "execution_count": 6,
   "id": "cac5d6f1-afbf-4345-98b8-c078d6f1b771",
   "metadata": {},
   "outputs": [],
   "source": [
    "def generation_chunked_t5(input_ids, num_beams):\n",
    "    _ = model_ct5.generate(\n",
    "        input_ids, \n",
    "        attention_mask=input_ids != 0,\n",
    "        eoc_token_id=tokenizer.vocab['</c>'],\n",
    "        max_chunk_size=10,\n",
    "        use_cache=False,\n",
    "        do_sample=False,\n",
    "        max_length=512,\n",
    "        num_beams=num_beams,\n",
    "    )\n",
    "    \n",
    "def generation_regular_t5(input_ids, num_beams):\n",
    "    _ = model_t5.generate(\n",
    "        input_ids, \n",
    "        attention_mask=input_ids != 0,\n",
    "        use_cache=True,\n",
    "        do_sample=False,\n",
    "        max_length=512,\n",
    "        num_beams=num_beams,\n",
    "    )"
   ]
  },
  {
   "cell_type": "code",
   "execution_count": 7,
   "id": "16d01cdb-472d-40e0-accd-864e5fdef4a3",
   "metadata": {},
   "outputs": [
    {
     "name": "stderr",
     "output_type": "stream",
     "text": [
      "0it [00:00, ?it/s]/home/mtreviso/spectra-t5/env/lib/python3.8/site-packages/functorch/_src/vmap.py:365: UserWarning: There is a performance drop because we have not yet implemented the batching rule for aten::repeat_interleave.Tensor. Please file us an issue on GitHub so that we can prioritize its implementation. (Triggered internally at  /__w/functorch/functorch/functorch/csrc/BatchedFallback.cpp:83.)\n",
      "  batched_outputs = func(*batched_inputs, **kwargs)\n",
      "28it [09:07, 19.54s/it]"
     ]
    },
    {
     "name": "stdout",
     "output_type": "stream",
     "text": [
      "[---- serial vs parallel greedy search ----]\n",
      "                |  chunked t5  |  regular t5\n",
      "1 threads: ---------------------------------\n",
      "      [1, 1]    |      80.0    |     605.1  \n",
      "      [1, 3]    |     149.0    |    1030.2  \n",
      "      [1, 5]    |     181.6    |     775.0  \n",
      "      [1, 10]   |     284.9    |     911.2  \n",
      "      [2, 1]    |      88.9    |     966.1  \n",
      "      [2, 3]    |     219.7    |    1084.6  \n",
      "      [2, 5]    |     306.8    |     920.5  \n",
      "      [2, 10]   |     512.2    |    1056.3  \n",
      "      [4, 1]    |     117.9    |     940.2  \n",
      "      [4, 3]    |     387.2    |    1481.7  \n",
      "      [4, 5]    |     623.6    |    1551.1  \n",
      "      [4, 10]   |    1145.2    |    1984.9  \n",
      "      [8, 1]    |     134.8    |    1239.0  \n",
      "      [8, 3]    |     724.3    |    3681.2  \n",
      "      [8, 5]    |    1073.9    |    4370.6  \n",
      "      [8, 10]   |    1929.4    |    6779.5  \n",
      "      [16, 1]   |     223.7    |    1257.0  \n",
      "      [16, 3]   |    1414.1    |    4774.9  \n",
      "      [16, 5]   |    2111.1    |    6560.9  \n",
      "      [16, 10]  |    3875.2    |   11762.2  \n",
      "      [32, 1]   |     414.4    |    2785.4  \n",
      "      [32, 3]   |    2944.6    |    7987.4  \n",
      "      [32, 5]   |    4316.6    |   12080.9  \n",
      "      [32, 10]  |    7717.3    |   23047.1  \n",
      "      [64, 1]   |     778.8    |    4218.8  \n",
      "      [64, 3]   |    5779.4    |   14751.9  \n",
      "      [64, 5]   |    8415.9    |   22972.2  \n",
      "      [64, 10]  |   15747.7    |   44545.2  \n",
      "\n",
      "Times are in milliseconds (ms).\n",
      "\n"
     ]
    },
    {
     "name": "stderr",
     "output_type": "stream",
     "text": [
      "\n"
     ]
    }
   ],
   "source": [
    "import torch.utils.benchmark as benchmark\n",
    "from itertools import product\n",
    "\n",
    "# sequence_lengths = [64, 128, 512, 1024]\n",
    "beam_sizes = [1, 3, 5, 10]\n",
    "batch_sizes = [1, 2, 4, 8, 16, 32, 64]\n",
    "device = 'cuda' if torch.cuda.is_available() else 'cpu'\n",
    "num_threads = 1\n",
    "results = []\n",
    "\n",
    "for batch_size, num_beams in tqdm(product(batch_sizes, beam_sizes)):\n",
    "    \n",
    "    label = 'serial vs parallel greedy search'\n",
    "    sub_label = f'[{batch_size}, {num_beams}]'\n",
    "    input_ids = tokenizer(input_samples[:batch_size], return_tensors=\"pt\", padding=True).input_ids\n",
    "    input_ids = input_ids.to(device)\n",
    "    torch.cuda.empty_cache()\n",
    "    results.append(benchmark.Timer(\n",
    "        stmt='generation_chunked_t5(input_ids, num_beams)',\n",
    "        setup='from __main__ import generation_chunked_t5',\n",
    "        globals={'input_ids': input_ids, 'num_beams': num_beams},\n",
    "        num_threads=num_threads,\n",
    "        label=label,\n",
    "        sub_label=sub_label,\n",
    "        description='chunked t5',\n",
    "    ).blocked_autorange(min_run_time=1))\n",
    "    torch.cuda.empty_cache()\n",
    "    results.append(benchmark.Timer(\n",
    "        stmt='generation_regular_t5(input_ids, num_beams)',\n",
    "        setup='from __main__ import generation_regular_t5',\n",
    "        globals={'input_ids': input_ids, 'num_beams': num_beams},\n",
    "        num_threads=num_threads,\n",
    "        label=label,\n",
    "        sub_label=sub_label,\n",
    "        description='regular t5',\n",
    "    ).blocked_autorange(min_run_time=1))\n",
    "\n",
    "compare = benchmark.Compare(results)\n",
    "compare.print()"
   ]
  },
  {
   "cell_type": "markdown",
   "id": "688ef5ad-44ef-4e6f-8bf3-72f568f36fdc",
   "metadata": {},
   "source": [
    "## Profiling\n",
    "---"
   ]
  },
  {
   "cell_type": "code",
   "execution_count": 8,
   "id": "7edab07b-63e8-4888-99d7-330f0676ed12",
   "metadata": {
    "tags": []
   },
   "outputs": [
    {
     "name": "stdout",
     "output_type": "stream",
     "text": [
      "-------------------------------------------------------  ------------  ------------  ------------  ------------  ------------  ------------  ------------  ------------  ------------  ------------  ------------  ------------  ------------  ------------  ------------  \n",
      "                                                   Name    Self CPU %      Self CPU   CPU total %     CPU total  CPU time avg     Self CUDA   Self CUDA %    CUDA total  CUDA time avg       CPU Mem  Self CPU Mem      CUDA Mem  Self CUDA Mem    # of Calls  Total MFLOPs  \n",
      "-------------------------------------------------------  ------------  ------------  ------------  ------------  ------------  ------------  ------------  ------------  ------------  ------------  ------------  ------------  ------------  ------------  ------------  \n",
      "                                               aten::mm         3.41%      14.375ms         4.57%      19.287ms      29.856us     100.119ms        20.81%     100.119ms     154.983us           0 b           0 b       5.60 Gb       5.60 Gb           646   1718687.367  \n",
      "                                aten::repeat_interleave         7.43%      31.325ms        53.14%     224.045ms     622.347us      27.898ms         5.80%     222.315ms     617.542us           0 b           0 b     657.50 Kb      -1.13 Mb           360            --  \n",
      "                                            aten::copy_         1.38%       5.811ms         6.93%      29.220ms      28.959us      20.715ms         4.31%      20.715ms      20.530us           0 b           0 b           0 b           0 b          1009            --  \n",
      "                                              aten::bmm         1.07%       4.500ms         1.25%       5.290ms      20.992us      20.576ms         4.28%      20.576ms      81.651us           0 b           0 b       2.19 Gb       2.19 Gb           252    123875.623  \n",
      "                                           aten::cumsum         3.80%      16.013ms         4.66%      19.662ms      30.722us      19.620ms         4.08%      21.627ms      33.792us           0 b           0 b     608.00 Kb     608.00 Kb           640            --  \n",
      "                                          aten::nonzero         2.85%      12.030ms         5.74%      24.195ms     109.977us      18.398ms         3.82%      25.549ms     116.132us           0 b           0 b     143.00 Kb           0 b           220            --  \n",
      "                                           aten::matmul         7.95%      33.519ms        22.92%      96.638ms     107.615us      16.954ms         3.52%     175.785ms     195.752us           0 b           0 b       7.79 Gb      -2.49 Gb           898            --  \n",
      "                                             aten::add_         0.25%       1.040ms         0.35%       1.491ms      10.143us      16.009ms         3.33%      16.009ms     108.905us           0 b           0 b           0 b           0 b           147            --  \n",
      "                                       aten::as_strided         0.78%       3.308ms         0.78%       3.308ms       0.706us      14.276ms         2.97%      14.276ms       3.048us           0 b           0 b           0 b           0 b          4683            --  \n",
      "                                          aten::reshape         4.25%      17.937ms         8.30%      35.013ms      24.281us      11.747ms         2.44%      36.193ms      25.099us           0 b           0 b       2.49 Gb           0 b          1442            --  \n",
      "                                           aten::select         3.19%      13.436ms         3.35%      14.115ms      11.932us      10.692ms         2.22%      14.649ms      12.383us           0 b           0 b           0 b           0 b          1183            --  \n",
      "                              aten::_local_scalar_dense         0.55%       2.304ms         6.34%      26.751ms      31.215us      10.586ms         2.20%      10.586ms      12.352us           0 b           0 b           0 b           0 b           857            --  \n",
      "                                            aten::index         2.75%      11.604ms         9.67%      40.766ms     194.124us       9.183ms         1.91%      41.550ms     197.857us           0 b           0 b     114.60 Mb    -126.00 Kb           210            --  \n",
      "                                        aten::transpose         3.41%      14.378ms         3.73%      15.713ms      10.503us       8.732ms         1.82%      11.974ms       8.004us           0 b           0 b           0 b           0 b          1496            --  \n",
      "                                               aten::ge         1.22%       5.130ms         1.57%       6.599ms      13.719us       8.469ms         1.76%       8.469ms      17.607us           0 b           0 b     247.00 Kb     247.00 Kb           481            --  \n",
      "                                                aten::t         2.15%       9.059ms         4.19%      17.664ms      20.397us       8.118ms         1.69%      16.670ms      19.249us           0 b           0 b           0 b           0 b           866            --  \n",
      "                                            aten::empty         1.36%       5.736ms         1.36%       5.736ms       4.271us       8.085ms         1.68%       8.085ms       6.020us       7.97 Kb       7.97 Kb       3.01 Gb       3.01 Gb          1343            --  \n",
      "                                         aten::_to_copy         2.25%       9.498ms         8.13%      34.261ms      84.387us       7.787ms         1.62%      16.050ms      39.532us           0 b           0 b       9.53 Mb           0 b           406            --  \n",
      "                                             aten::item         1.85%       7.799ms         8.19%      34.550ms      40.315us       7.746ms         1.61%      18.332ms      21.391us           0 b           0 b           0 b           0 b           857            --  \n",
      "                                              aten::all         1.66%       6.989ms         1.94%       8.175ms      25.547us       7.358ms         1.53%       9.263ms      28.947us           0 b           0 b     160.00 Kb     160.00 Kb           320            --  \n",
      "                                         aten::_softmax         0.27%       1.156ms         0.37%       1.551ms      12.310us       7.325ms         1.52%       7.325ms      58.135us           0 b           0 b       1.80 Gb       1.80 Gb           126            --  \n",
      "                                              aten::add         1.04%       4.402ms         1.42%       5.973ms      12.444us       7.170ms         1.49%       7.170ms      14.938us           0 b           0 b     944.54 Mb     944.54 Mb           480       169.403  \n",
      "                                              aten::sub         0.73%       3.076ms         1.03%       4.332ms      10.776us       6.595ms         1.37%       6.595ms      16.405us           0 b           0 b       6.73 Mb       6.73 Mb           402            --  \n",
      "                                               aten::to         0.90%       3.802ms         9.03%      38.063ms      22.337us       6.567ms         1.37%      22.617ms      13.273us           0 b           0 b       9.53 Mb           0 b          1704            --  \n",
      "                                              aten::mul         0.93%       3.934ms         1.28%       5.386ms      11.460us       6.097ms         1.27%       6.097ms      12.972us           0 b           0 b       1.36 Gb       1.36 Gb           470       182.137  \n",
      "                                           aten::linear         3.01%      12.683ms        17.54%      73.975ms     114.512us       5.818ms         1.21%     136.405ms     211.153us           0 b           0 b       5.60 Gb           0 b           646            --  \n",
      "                                            aten::clone         2.47%      10.400ms         5.47%      23.054ms      41.390us       5.613ms         1.17%      26.110ms      46.876us           0 b           0 b       2.88 Gb           0 b           557            --  \n",
      "                                           aten::gather         1.17%       4.941ms         1.36%       5.716ms      31.756us       4.730ms         0.98%       5.922ms      32.900us           0 b           0 b     274.50 Kb     274.50 Kb           180            --  \n",
      "                                 aten::_index_put_impl_         1.15%       4.864ms         2.28%       9.619ms      53.439us       4.210ms         0.88%      10.113ms      56.183us           0 b           0 b           0 b     -22.00 Kb           180            --  \n",
      "                                              aten::pow         1.33%       5.604ms         1.56%       6.565ms      32.340us       4.162ms         0.87%       4.939ms      24.330us           0 b           0 b     687.55 Mb     687.55 Mb           203            --  \n",
      "                                   aten::_reshape_alias         0.31%       1.310ms         0.31%       1.310ms       1.231us       4.142ms         0.86%       4.142ms       3.893us           0 b           0 b           0 b           0 b          1064            --  \n",
      "                                       aten::empty_like         1.26%       5.322ms         1.83%       7.732ms      12.930us       4.019ms         0.84%       6.705ms      11.212us           0 b           0 b       2.88 Gb           0 b           598            --  \n",
      "                                           aten::expand         1.27%       5.347ms         1.36%       5.724ms      10.503us       3.821ms         0.79%       5.122ms       9.398us           0 b           0 b           0 b           0 b           545            --  \n",
      "                                        aten::clamp_min         0.14%     601.000us         0.19%     822.000us      12.455us       3.526ms         0.73%       3.526ms      53.424us           0 b           0 b     944.00 Mb     944.00 Mb            66            --  \n",
      "                                      aten::bitwise_and         0.37%       1.560ms         0.52%       2.183ms      10.861us       2.833ms         0.59%       2.833ms      14.095us           0 b           0 b       1.15 Mb       1.15 Mb           201            --  \n",
      "                                    aten::empty_strided         0.37%       1.563ms         0.37%       1.563ms       3.660us       2.742ms         0.57%       2.742ms       6.422us           0 b           0 b      12.08 Mb      12.08 Mb           427            --  \n",
      "                                               aten::lt         0.36%       1.525ms         0.50%       2.103ms      11.010us       2.722ms         0.57%       2.722ms      14.251us           0 b          24 b     373.50 Kb     373.50 Kb           191            --  \n",
      "                                               aten::le         0.35%       1.474ms         0.49%       2.061ms      10.791us       2.671ms         0.56%       2.671ms      13.984us           0 b         128 b       1.13 Mb       1.13 Mb           191            --  \n",
      "                                      aten::bitwise_not         0.34%       1.420ms         0.48%       2.033ms      10.700us       2.645ms         0.55%       2.645ms      13.921us           0 b           0 b     124.50 Kb     124.50 Kb           190            --  \n",
      "                                             aten::mean         0.64%       2.694ms         0.79%       3.331ms      16.409us       2.615ms         0.54%       2.615ms      12.882us           0 b           0 b       1.33 Mb       1.33 Mb           203            --  \n",
      "                                     aten::masked_fill_         0.25%       1.073ms         0.41%       1.748ms       8.207us       2.435ms         0.51%       2.435ms      11.432us           0 b           0 b           0 b           0 b           213            --  \n",
      "                                            aten::slice         0.58%       2.429ms         0.61%       2.588ms      10.352us       2.432ms         0.51%       3.309ms      13.236us           0 b           0 b           0 b           0 b           250            --  \n",
      "                                          aten::resize_         0.25%       1.068ms         0.25%       1.068ms       3.096us       2.072ms         0.43%       2.072ms       6.006us           0 b           0 b      51.35 Mb      51.35 Mb           345            --  \n",
      "                                           aten::arange         0.47%       1.971ms         0.91%       3.839ms      29.992us       1.975ms         0.41%       4.182ms      32.672us           0 b           0 b     132.00 Kb           0 b           128            --  \n",
      "                                        aten::unsqueeze         0.46%       1.937ms         0.49%       2.076ms      10.538us       1.920ms         0.40%       2.592ms      13.157us           0 b           0 b           0 b           0 b           197            --  \n",
      "                                       aten::index_put_         0.40%       1.678ms         2.68%      11.297ms      62.761us       1.677ms         0.35%      11.790ms      65.500us           0 b           0 b           0 b           0 b           180            --  \n",
      "                                     aten::_unsafe_view         0.32%       1.366ms         0.32%       1.366ms       1.071us       1.661ms         0.35%       1.661ms       1.302us           0 b           0 b           0 b           0 b          1276            --  \n",
      "                                      aten::masked_fill         0.44%       1.845ms         1.21%       5.085ms      95.943us       1.654ms         0.34%       4.575ms      86.321us           0 b           0 b     422.50 Kb           0 b            53            --  \n",
      "                                          aten::__and__         0.42%       1.768ms         0.94%       3.951ms      19.657us       1.645ms         0.34%       4.478ms      22.279us           0 b           0 b       1.15 Mb           0 b           201            --  \n",
      "                                            aten::rsqrt         0.37%       1.577ms         0.56%       2.341ms      11.532us       1.564ms         0.33%       1.564ms       7.704us           0 b           0 b       1.33 Mb       1.33 Mb           203            --  \n",
      "                                     aten::index_select         0.18%     772.000us         0.50%       2.091ms      49.786us       1.284ms         0.27%       2.316ms      55.143us           0 b           0 b      47.59 Mb           0 b            42            --  \n",
      "                                             aten::view         0.27%       1.129ms         0.27%       1.129ms       1.923us       1.172ms         0.24%       1.172ms       1.997us           0 b           0 b           0 b           0 b           587            --  \n",
      "                                              aten::sum         0.27%       1.159ms         0.51%       2.157ms      52.610us       1.167ms         0.24%       2.196ms      53.561us           0 b           0 b      20.50 Kb    -192.50 Kb            41            --  \n",
      "                                             aten::set_         0.58%       2.458ms         0.58%       2.458ms      11.173us       1.127ms         0.23%       1.127ms       5.123us           0 b           0 b           0 b           0 b           220            --  \n",
      "                               aten::unique_consecutive         0.24%       1.012ms         4.66%      19.650ms       1.228ms     858.000us         0.18%       1.593ms      99.562us           0 b           0 b      56.00 Kb      -8.00 Kb            16            --  \n",
      "                                          aten::type_as         0.27%       1.131ms         0.28%       1.181ms       9.373us     819.000us         0.17%       1.081ms       8.579us           0 b           0 b           0 b           0 b           126            --  \n",
      "                                             aten::rsub         0.44%       1.841ms         0.65%       2.755ms      38.803us     814.000us         0.17%       2.913ms      41.028us           0 b           0 b       4.39 Mb           0 b            71            --  \n",
      "                                            aten::where         0.20%     833.000us         0.48%       2.008ms      62.750us     794.000us         0.17%       2.114ms      66.062us           0 b           0 b       2.25 Mb     -10.00 Kb            32            --  \n",
      "                                               aten::eq         0.11%     453.000us         0.26%       1.116ms      24.800us     715.000us         0.15%     715.000us      15.889us           0 b           0 b      75.00 Kb      75.00 Kb            45            --  \n",
      "                                            aten::fill_         0.10%     439.000us         0.18%     749.000us      11.523us     713.000us         0.15%     832.000us      12.800us           0 b           0 b           0 b           0 b            65            --  \n",
      "                                       aten::contiguous         0.24%       1.008ms         1.39%       5.844ms      46.381us     704.000us         0.15%       4.853ms      38.516us           0 b           0 b     399.90 Mb           0 b           126            --  \n",
      "                                          aten::softmax         0.28%       1.170ms         0.65%       2.721ms      21.595us     692.000us         0.14%       8.017ms      63.627us           0 b           0 b       1.80 Gb           0 b           126            --  \n",
      "                                               aten::ne         0.10%     418.000us         0.13%     536.000us      16.750us     613.000us         0.13%     613.000us      19.156us           0 b           0 b      23.00 Kb      23.00 Kb            32            --  \n",
      "                                          aten::dropout         0.05%     199.000us         0.05%     199.000us       0.490us     613.000us         0.13%     613.000us       1.510us           0 b           0 b           0 b           0 b           406            --  \n",
      "                                              aten::cat         0.07%     314.000us         0.11%     443.000us      14.290us     561.000us         0.12%     561.000us      18.097us           0 b           0 b     325.00 Kb     325.00 Kb            31            --  \n",
      "                                              aten::max         0.12%     507.000us         0.35%       1.496ms      74.800us     532.000us         0.11%       1.560ms      78.000us           0 b           0 b      10.00 Kb           0 b            20            --  \n",
      "                                            aten::stack         0.20%     841.000us         0.31%       1.296ms      43.200us     513.000us         0.11%       1.174ms      39.133us           0 b           0 b     318.00 Kb           0 b            30            --  \n",
      "                                           aten::argmax         0.05%     209.000us         0.06%     260.000us      26.000us     455.000us         0.09%     482.000us      48.200us           0 b           0 b      11.00 Kb      11.00 Kb            10            --  \n",
      "                                        aten::embedding         0.15%     629.000us         0.40%       1.703ms      77.409us     447.000us         0.09%       1.795ms      81.591us           0 b           0 b      47.47 Mb           0 b            22            --  \n",
      "                                      aten::result_type         0.03%     110.000us         0.03%     110.000us       0.542us     385.000us         0.08%     385.000us       1.897us           0 b           0 b           0 b           0 b           203            --  \n",
      "                                          aten::permute         0.09%     370.000us         0.09%     398.000us      12.839us     371.000us         0.08%     486.000us      15.677us           0 b           0 b           0 b           0 b            31            --  \n",
      "                                             aten::roll         0.06%     267.000us         0.15%     628.000us      31.400us     366.000us         0.08%     695.000us      34.750us           0 b           0 b      29.50 Kb           0 b            20            --  \n",
      "                                               aten::gt         0.05%     202.000us         0.07%     277.000us      13.190us     331.000us         0.07%     331.000us      15.762us           0 b           0 b     226.00 Kb     226.00 Kb            21            --  \n",
      "                                    aten::scalar_tensor         0.10%     403.000us         0.15%     617.000us      30.850us     329.000us         0.07%     675.000us      33.750us           0 b           0 b      10.00 Kb           0 b            20            --  \n",
      "                                              aten::div         0.05%     192.000us         0.06%     264.000us      11.478us     318.000us         0.07%     318.000us      13.826us           0 b           0 b       2.04 Mb       2.04 Mb            23            --  \n",
      "                                          aten::minimum         0.04%     186.000us         0.06%     252.000us      12.000us     318.000us         0.07%     318.000us      15.143us           0 b           0 b       2.55 Mb       2.55 Mb            21            --  \n",
      "                                             aten::relu         0.17%     732.000us         0.37%       1.554ms      23.545us     244.000us         0.05%       3.770ms      57.121us           0 b           0 b     944.00 Mb           0 b            66            --  \n",
      "                                     aten::pad_sequence         0.09%     371.000us         0.22%     942.000us     942.000us     238.000us         0.05%     945.000us     945.000us           0 b           0 b       7.00 Kb           0 b             1            --  \n",
      "                                          aten::movedim         0.13%     567.000us         0.20%     830.000us      41.500us     186.000us         0.04%     505.000us      25.250us           0 b           0 b           0 b           0 b            20            --  \n",
      "                                              aten::min         0.05%     191.000us         0.11%     443.000us      21.095us     168.000us         0.03%     486.000us      23.143us           0 b           0 b       2.55 Mb           0 b            21            --  \n",
      "                                              aten::neg         0.02%      83.000us         0.03%     120.000us      12.000us     155.000us         0.03%     155.000us      15.500us           0 b           0 b     521.50 Kb     521.50 Kb            10            --  \n",
      "                                       aten::zeros_like         0.04%     173.000us         0.12%     498.000us      49.800us     150.000us         0.03%     527.000us      52.700us           0 b           0 b     521.50 Kb           0 b            10            --  \n",
      "                                              aten::log         0.02%      90.000us         0.03%     129.000us      11.727us     149.000us         0.03%     149.000us      13.545us           0 b           0 b       1.02 Mb       1.02 Mb            11            --  \n",
      "                                        aten::full_like         0.04%     187.000us         0.10%     413.000us      37.545us     142.000us         0.03%     414.000us      37.636us           0 b           0 b       2.04 Mb           0 b            11            --  \n",
      "                                            aten::zero_         0.05%     203.000us         0.09%     383.000us      19.150us     122.000us         0.03%     289.000us      14.450us           0 b           0 b           0 b           0 b            20            --  \n",
      "                                           aten::narrow         0.03%     118.000us         0.06%     263.000us      16.438us     119.000us         0.02%     305.000us      19.062us           0 b           0 b           0 b           0 b            16            --  \n",
      "                                          aten::flatten         0.00%      10.000us         0.00%      10.000us       0.500us      81.000us         0.02%      81.000us       4.050us           0 b           0 b           0 b           0 b            20            --  \n",
      "                                            aten::zeros         0.04%     179.000us         0.10%     422.000us      42.200us      68.000us         0.01%     162.000us      16.200us           0 b           0 b      11.90 Mb           0 b            10            --  \n",
      "                                           aten::unbind         0.10%     401.000us         0.13%     533.000us     533.000us      46.000us         0.01%     126.000us     126.000us           0 b           0 b           0 b           0 b             1            --  \n",
      "                                             aten::lift         0.00%      12.000us         0.00%      12.000us       1.200us      39.000us         0.01%      39.000us       3.900us           0 b           0 b           0 b           0 b            10            --  \n",
      "                                             aten::full         0.00%      18.000us         0.01%      36.000us      36.000us      15.000us         0.00%      39.000us      39.000us           0 b           0 b       7.00 Kb           0 b             1            --  \n",
      "                                              aten::abs         0.01%      41.000us         0.02%      80.000us      40.000us      14.000us         0.00%      24.000us      12.000us           0 b           0 b       3.06 Mb           0 b             2            --  \n",
      "                                             aten::ones         0.01%      38.000us         0.02%      68.000us      34.000us      13.000us         0.00%      22.000us      11.000us           0 b           0 b       4.00 Kb           0 b             2            --  \n",
      "                                           aten::__or__         0.00%      11.000us         0.01%      27.000us      27.000us       4.000us         0.00%       7.000us       7.000us           0 b           0 b       7.00 Kb           0 b             1            --  \n",
      "                                       aten::bitwise_or         0.00%      11.000us         0.00%      16.000us      16.000us       3.000us         0.00%       3.000us       3.000us           0 b           0 b       7.00 Kb       7.00 Kb             1            --  \n",
      "                                       cudaLaunchKernel         7.01%      29.541ms         7.01%      29.541ms       3.244us       0.000us         0.00%       0.000us       0.000us        -152 b        -152 b           0 b           0 b          9107            --  \n",
      "                                               [memory]         0.00%       0.000us         0.00%       0.000us       0.000us       0.000us         0.00%       0.000us       0.000us      -7.97 Kb      -7.97 Kb     -14.07 Gb     -14.07 Gb          7011            --  \n",
      "cudaOccupancyMaxActiveBlocksPerMultiprocessorWithFla...         0.02%      75.000us         0.02%      75.000us       0.021us       0.000us         0.00%       0.000us       0.000us           0 b           0 b           0 b           0 b          3602            --  \n",
      "                               cudaStreamGetCaptureInfo         0.00%       3.000us         0.00%       3.000us       0.002us       0.000us         0.00%       0.000us       0.000us           0 b           0 b           0 b           0 b          1674            --  \n",
      "                                         cudaEventQuery         0.20%     844.000us         0.20%     844.000us       1.513us       0.000us         0.00%       0.000us       0.000us           0 b           0 b           0 b           0 b           558            --  \n",
      "-------------------------------------------------------  ------------  ------------  ------------  ------------  ------------  ------------  ------------  ------------  ------------  ------------  ------------  ------------  ------------  ------------  ------------  \n",
      "Self CPU time total: 421.638ms\n",
      "Self CUDA time total: 481.093ms\n",
      "\n"
     ]
    }
   ],
   "source": [
    "import torch.autograd.profiler as profiler\n",
    "\n",
    "batch_size = 16\n",
    "device = 'cuda' if torch.cuda.is_available() else 'cpu'\n",
    "input_ids = tokenizer(input_samples[:batch_size], return_tensors=\"pt\", padding=True).input_ids\n",
    "input_ids = input_ids.to(device)\n",
    "\n",
    "with profiler.profile(profile_memory=True, use_cuda=True, with_flops=True) as prof:\n",
    "    generated_ids = model_ct5.generate(\n",
    "        input_ids, \n",
    "        attention_mask=input_ids != 0,\n",
    "        eoc_token_id=tokenizer.vocab['</c>'],\n",
    "        max_chunk_size=10,\n",
    "        use_cache=False,\n",
    "        do_sample=False,\n",
    "        max_length=512,\n",
    "        num_beams=1,\n",
    "    )\n",
    "\n",
    "print(prof.key_averages().table(sort_by=\"self_cuda_time_total\"))"
   ]
  },
  {
   "cell_type": "markdown",
   "id": "77019ff7-7325-4a7c-986d-2aa202d80202",
   "metadata": {},
   "source": [
    "As you can see, `aten::repeat_interleave` is the part of the code that takes longer. It is used in the `_update_input_ids_in_parallel` method to autoregressively insert new tokens for each chunk in all batches. Note that the performance wrt this operation can be improved as there are better approaches to use rather than `repeat_interleave`, such as smart indexing + gathering."
   ]
  }
 ],
 "metadata": {
  "kernelspec": {
   "display_name": "Python 3 (ipykernel)",
   "language": "python",
   "name": "python3"
  },
  "language_info": {
   "codemirror_mode": {
    "name": "ipython",
    "version": 3
   },
   "file_extension": ".py",
   "mimetype": "text/x-python",
   "name": "python",
   "nbconvert_exporter": "python",
   "pygments_lexer": "ipython3",
   "version": "3.8.10"
  }
 },
 "nbformat": 4,
 "nbformat_minor": 5
}
